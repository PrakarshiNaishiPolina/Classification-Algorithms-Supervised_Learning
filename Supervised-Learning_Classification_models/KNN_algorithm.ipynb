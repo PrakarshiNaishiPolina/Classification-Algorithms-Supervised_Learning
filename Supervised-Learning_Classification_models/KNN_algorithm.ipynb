{
  "nbformat": 4,
  "nbformat_minor": 0,
  "metadata": {
    "colab": {
      "provenance": []
    },
    "kernelspec": {
      "name": "python3",
      "display_name": "Python 3"
    },
    "language_info": {
      "name": "python"
    }
  },
  "cells": [
    {
      "cell_type": "markdown",
      "source": [
        "# K-Nearest Neighbors"
      ],
      "metadata": {
        "id": "-79Dku0RO5iV"
      }
    },
    {
      "cell_type": "code",
      "execution_count": null,
      "metadata": {
        "id": "Q_8J_73uLDWK"
      },
      "outputs": [],
      "source": [
        "import numpy as np\n",
        "import pandas as od\n",
        "import matplotlib.pyplot as plt\n",
        "from sklearn.model_selection import train_test_split\n",
        "from sklearn.preprocessing import StandardScaler\n",
        "from sklearn.neighbors import KNeighborsClassifier\n",
        "from sklearn.metrics import accuracy_score,classification_report,confusion_matrix\n",
        "from sklearn.datasets import load_iris"
      ]
    },
    {
      "cell_type": "code",
      "source": [
        "# Loading the dataset\n",
        "iris=load_iris()\n",
        "X=iris.data # Features\n",
        "y=iris.target # Target\n",
        "\n",
        "# Splitting dataset into training and testing\n",
        "X_train,X_test,y_train,y_test=train_test_split(X,y,test_size=0.2,random_state=42)"
      ],
      "metadata": {
        "id": "qcNUeoAkLfQb"
      },
      "execution_count": null,
      "outputs": []
    },
    {
      "cell_type": "code",
      "source": [
        "# Normalize the features\n",
        "scaler=StandardScaler()\n",
        "X_train=scaler.fit_transform(X_train)\n",
        "X_test=scaler.transform(X_test)"
      ],
      "metadata": {
        "id": "LOyOryZDML7l"
      },
      "execution_count": null,
      "outputs": []
    },
    {
      "cell_type": "code",
      "source": [
        "# KNN Classifier\n",
        "knn=KNeighborsClassifier(n_neighbors=5)\n",
        "# Train the model\n",
        "knn.fit(X_train,y_train)\n",
        "# Make predictions\n",
        "y_pred=knn.predict(X_test)\n",
        "\n",
        "# Evaluate the model\n",
        "accuracy=accuracy_score(y_test,y_pred)\n",
        "print(f\"Accuracy:{accuracy:.2f}\")\n",
        "conf_matrix=confusion_matrix(y_test,y_pred)\n",
        "print(\"Confusion Matrix:\\n\")\n",
        "print(conf_matrix)\n",
        "class_report=classification_report(y_test,y_pred)\n",
        "print(\"Classification Report:\\n\")\n",
        "print(class_report)"
      ],
      "metadata": {
        "colab": {
          "base_uri": "https://localhost:8080/"
        },
        "id": "_UDCJLxOMX2d",
        "outputId": "28183f24-8fd3-4b46-f191-f34558dae2c7"
      },
      "execution_count": null,
      "outputs": [
        {
          "output_type": "stream",
          "name": "stdout",
          "text": [
            "Accuracy:1.00\n",
            "Confusion Matrix:\n",
            "\n",
            "[[10  0  0]\n",
            " [ 0  9  0]\n",
            " [ 0  0 11]]\n",
            "Classification Report:\n",
            "\n",
            "              precision    recall  f1-score   support\n",
            "\n",
            "           0       1.00      1.00      1.00        10\n",
            "           1       1.00      1.00      1.00         9\n",
            "           2       1.00      1.00      1.00        11\n",
            "\n",
            "    accuracy                           1.00        30\n",
            "   macro avg       1.00      1.00      1.00        30\n",
            "weighted avg       1.00      1.00      1.00        30\n",
            "\n"
          ]
        }
      ]
    },
    {
      "cell_type": "code",
      "source": [],
      "metadata": {
        "id": "on3Rb5cbNEAk"
      },
      "execution_count": null,
      "outputs": []
    }
  ]
}