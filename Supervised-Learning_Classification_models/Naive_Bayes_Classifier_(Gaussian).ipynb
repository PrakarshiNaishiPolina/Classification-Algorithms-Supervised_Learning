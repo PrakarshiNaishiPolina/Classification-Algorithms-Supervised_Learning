{
  "nbformat": 4,
  "nbformat_minor": 0,
  "metadata": {
    "colab": {
      "provenance": []
    },
    "kernelspec": {
      "name": "python3",
      "display_name": "Python 3"
    },
    "language_info": {
      "name": "python"
    }
  },
  "cells": [
    {
      "cell_type": "markdown",
      "source": [
        "# Naive Bayes Classifier"
      ],
      "metadata": {
        "id": "9lNVXjbW7RaE"
      }
    },
    {
      "cell_type": "code",
      "source": [
        "import numpy as np\n",
        "import pandas as pd\n",
        "from sklearn.model_selection import train_test_split\n",
        "from sklearn.naive_bayes import GaussianNB\n",
        "from sklearn.metrics import accuracy_score,classification_report,confusion_matrix\n",
        "from sklearn import datasets"
      ],
      "metadata": {
        "id": "cCg41yrf7gx7"
      },
      "execution_count": 1,
      "outputs": []
    },
    {
      "cell_type": "code",
      "source": [
        "# Loading the datset\n",
        "iris=datasets.load_iris()\n",
        "X=iris.data # features\n",
        "y=iris.target # target\n",
        "\n",
        "# Splitting the dataset\n",
        "X_train,X_test,y_train,y_test=train_test_split(X,y,test_size=0.2,random_state=42)\n"
      ],
      "metadata": {
        "id": "E-Mm6WSq87xd"
      },
      "execution_count": 2,
      "outputs": []
    },
    {
      "cell_type": "code",
      "source": [
        "# Naive Bayes Classifier\n",
        "nb=GaussianNB()\n",
        "# Training the model\n",
        "nb.fit(X_train,y_train)\n",
        "# Predicting\n",
        "y_pred=nb.predict(X_test)"
      ],
      "metadata": {
        "id": "DxU5OkYf_Z8k"
      },
      "execution_count": 3,
      "outputs": []
    },
    {
      "cell_type": "code",
      "source": [
        "print(\"Accuracy: \",accuracy_score(y_test,y_pred))\n",
        "# Confusion Matrix\n",
        "print(\"Confusion Matrix: \\n\",confusion_matrix(y_test,y_pred))\n",
        "# Classification Matrix\n",
        "print(\"Classification Report: \\n\",classification_report(y_test,y_pred))"
      ],
      "metadata": {
        "colab": {
          "base_uri": "https://localhost:8080/"
        },
        "id": "qK6-j1Gy_o7x",
        "outputId": "39523824-22b9-449c-fff6-9d5da8bfebce"
      },
      "execution_count": 4,
      "outputs": [
        {
          "output_type": "stream",
          "name": "stdout",
          "text": [
            "Accuracy:  1.0\n",
            "Confusion Matrix: \n",
            " [[10  0  0]\n",
            " [ 0  9  0]\n",
            " [ 0  0 11]]\n",
            "Classification Report: \n",
            "               precision    recall  f1-score   support\n",
            "\n",
            "           0       1.00      1.00      1.00        10\n",
            "           1       1.00      1.00      1.00         9\n",
            "           2       1.00      1.00      1.00        11\n",
            "\n",
            "    accuracy                           1.00        30\n",
            "   macro avg       1.00      1.00      1.00        30\n",
            "weighted avg       1.00      1.00      1.00        30\n",
            "\n"
          ]
        }
      ]
    },
    {
      "cell_type": "code",
      "source": [],
      "metadata": {
        "id": "LP_zeEKN_0s0"
      },
      "execution_count": null,
      "outputs": []
    }
  ]
}